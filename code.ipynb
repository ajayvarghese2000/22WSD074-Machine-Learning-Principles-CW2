{
 "cells": [
  {
   "attachments": {},
   "cell_type": "markdown",
   "metadata": {},
   "source": [
    "# B929164 Machine Learning CW1\n",
    "\n",
    "This project aims to create a machine learning model that could determine if a customer would be a good fit to receive a line of credit or not based on a number of relevant financial features.\n",
    "\n",
    "The data set being used can be found [here](https://www.kaggle.com/c/home-credit-default-risk/data). First published by Hans Hofmann, it contains financial information about german customers from 1994.\n",
    "\n",
    "A machine learning model that can predict whether a customer should be given credit can be useful for several reasons, lending institutions, such as banks or credit card companies, can use this model to assess the risk associated with providing credit to a particular customer by analysing various factors and patterns in the customer's data. This information helps lenders make informed decisions about granting credit and setting appropriate terms and interest rates. Additionally it can also improve efficiency by automating the process of assessing credit risk.\n",
    "\n",
    "Furthermore, it can also benefit the customer as customers can use this model to assess their own credit risk and make informed decisions about applying for credit without having to go through the process of applying for credit and being rejected which can have a negative impact on their credit score. It can also eliminate bias that may be present in human decision making."
   ]
  },
  {
   "attachments": {},
   "cell_type": "markdown",
   "metadata": {},
   "source": [
    "# Importing Libraries"
   ]
  },
  {
   "cell_type": "code",
   "execution_count": null,
   "metadata": {},
   "outputs": [],
   "source": [
    "# [Imports]\n",
    "\n",
    "# General purpose data manipulation libraries\n",
    "import pandas as pd\n",
    "import numpy as np\n",
    "\n",
    "# Data visualization libraries\n",
    "import matplotlib.pyplot as plt\n",
    "import seaborn as sns\n",
    "\n",
    "# File system management\n",
    "import os\n",
    "import warnings\n",
    "warnings.filterwarnings('ignore')\n",
    "\n",
    "# Machine learning libraries\n",
    "from sklearn.preprocessing import LabelEncoder\n",
    "from sklearn.model_selection import train_test_split\n",
    "from sklearn.metrics import accuracy_score, confusion_matrix, classification_report\n",
    "\n"
   ]
  }
 ],
 "metadata": {
  "kernelspec": {
   "display_name": "base",
   "language": "python",
   "name": "python3"
  },
  "language_info": {
   "codemirror_mode": {
    "name": "ipython",
    "version": 3
   },
   "file_extension": ".py",
   "mimetype": "text/x-python",
   "name": "python",
   "nbconvert_exporter": "python",
   "pygments_lexer": "ipython3",
   "version": "3.10.9"
  },
  "orig_nbformat": 4
 },
 "nbformat": 4,
 "nbformat_minor": 2
}
